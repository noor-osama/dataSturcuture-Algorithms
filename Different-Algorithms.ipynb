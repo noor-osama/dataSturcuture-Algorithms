{
 "cells": [
  {
   "cell_type": "markdown",
   "id": "assured-honduras",
   "metadata": {},
   "source": [
    "# Fibonacci numbers without recursion"
   ]
  },
  {
   "cell_type": "markdown",
   "id": "presidential-metabolism",
   "metadata": {},
   "source": [
    "0, 1, 1, 2, 3, 5, 8, 13, 21, 34, 55, 89, 144, ...\n",
    "0, 1, 2, 3, 4, 5, 6, 7,  8,  9,  10,  11,   12,..."
   ]
  },
  {
   "cell_type": "code",
   "execution_count": null,
   "id": "molecular-sequence",
   "metadata": {},
   "outputs": [],
   "source": [
    "def fib(n):\n",
    "    a = 0\n",
    "    b = 1\n",
    "    if n < 0:\n",
    "        print(\"Incorrect input\")\n",
    "    elif n == 0:\n",
    "        return 0\n",
    "    elif n == 1:\n",
    "        return b\n",
    "    else:\n",
    "        for i in range(1, n):\n",
    "            c = a + b\n",
    "            a = b\n",
    "            b = c\n",
    "        return b"
   ]
  },
  {
   "cell_type": "code",
   "execution_count": null,
   "id": "proof-sheep",
   "metadata": {},
   "outputs": [],
   "source": [
    "print (fib(2))"
   ]
  },
  {
   "cell_type": "markdown",
   "id": "otherwise-filing",
   "metadata": {},
   "source": [
    "# Fibonacci numbers with recursion"
   ]
  },
  {
   "cell_type": "code",
   "execution_count": null,
   "id": "national-mixture",
   "metadata": {},
   "outputs": [],
   "source": [
    "def fib_rec(n):\n",
    "    if n < 0:\n",
    "        print(\"Incorrect input\")\n",
    "    elif n == 0:\n",
    "        return 0\n",
    "    elif n == 1 or n == 2:\n",
    "        return 1\n",
    "    else:\n",
    "        return Fibonacci(n-1) + Fibonacci(n-2)"
   ]
  },
  {
   "cell_type": "code",
   "execution_count": null,
   "id": "blond-seeker",
   "metadata": {},
   "outputs": [],
   "source": [
    "print(fib_rec(2))"
   ]
  },
  {
   "cell_type": "markdown",
   "id": "lined-convertible",
   "metadata": {},
   "source": [
    "# Power Function without recursion "
   ]
  },
  {
   "cell_type": "code",
   "execution_count": 115,
   "id": "greater-rabbit",
   "metadata": {},
   "outputs": [],
   "source": [
    "def n_power (base,exp):\n",
    "    result = 1\n",
    "    if (exp <0):\n",
    "        abs_exp = abs (exp)\n",
    "        for i in range (abs_exp):\n",
    "            result = result*base\n",
    "        return 1/result\n",
    "    else:\n",
    "        for i in range (exp):\n",
    "            result = result*base \n",
    "        return result\n",
    "            \n",
    "            "
   ]
  },
  {
   "cell_type": "code",
   "execution_count": 116,
   "id": "overall-detail",
   "metadata": {},
   "outputs": [
    {
     "name": "stdout",
     "output_type": "stream",
     "text": [
      "Enter base: 2\n",
      "Enter exponential value: -2\n"
     ]
    }
   ],
   "source": [
    "base=int(input(\"Enter base: \"))\n",
    "exp=int(input(\"Enter exponential value: \"))"
   ]
  },
  {
   "cell_type": "code",
   "execution_count": 117,
   "id": "alone-genre",
   "metadata": {},
   "outputs": [
    {
     "name": "stdout",
     "output_type": "stream",
     "text": [
      "Result: 0.25\n"
     ]
    }
   ],
   "source": [
    "print(\"Result:\",n_power(base, exp))"
   ]
  },
  {
   "cell_type": "markdown",
   "id": "living-investing",
   "metadata": {},
   "source": [
    "# Power Function with recursion "
   ]
  },
  {
   "cell_type": "code",
   "execution_count": 60,
   "id": "impressive-franklin",
   "metadata": {},
   "outputs": [],
   "source": [
    "def power(base,exp):\n",
    "    if(exp==0) :\n",
    "        return 1\n",
    "    if(exp==1) :\n",
    "        return(base)\n",
    "    if (exp<1) :\n",
    "        return 1/( base*power(base ,abs(exp)-1))  \n",
    "    if(exp>1):\n",
    "        return(base*power(base,exp-1))\n"
   ]
  },
  {
   "cell_type": "code",
   "execution_count": 61,
   "id": "unavailable-smooth",
   "metadata": {},
   "outputs": [
    {
     "name": "stdout",
     "output_type": "stream",
     "text": [
      "Enter base: 5\n",
      "Enter exponential value: -1\n"
     ]
    }
   ],
   "source": [
    "base=int(input(\"Enter base: \"))\n",
    "exp=int(input(\"Enter exponential value: \"))"
   ]
  },
  {
   "cell_type": "code",
   "execution_count": 62,
   "id": "powerful-valley",
   "metadata": {},
   "outputs": [
    {
     "name": "stdout",
     "output_type": "stream",
     "text": [
      "Result: 0.2\n"
     ]
    }
   ],
   "source": [
    "print(\"Result:\",power(base,exp))"
   ]
  },
  {
   "cell_type": "markdown",
   "id": "south-costume",
   "metadata": {},
   "source": [
    "# Binary Search Function with recursion "
   ]
  },
  {
   "cell_type": "code",
   "execution_count": 108,
   "id": "foster-provincial",
   "metadata": {},
   "outputs": [],
   "source": [
    "def b_rec (arr , low ,high , key):\n",
    "    if high >= low :\n",
    "        mid = (high+low) //2\n",
    "        if key == arr [mid]:\n",
    "            return mid\n",
    "        if key > arr [mid]:\n",
    "            return b_rec(arr,mid+1,high,key)\n",
    "            \n",
    "        if key < arr [mid]:\n",
    "            return b_rec(arr,low,mid-1,key)   \n",
    "    else :\n",
    "        return -1"
   ]
  },
  {
   "cell_type": "code",
   "execution_count": 111,
   "id": "quality-interference",
   "metadata": {},
   "outputs": [
    {
     "name": "stdout",
     "output_type": "stream",
     "text": [
      "enter key : 9\n",
      "The key at 3\n"
     ]
    }
   ],
   "source": [
    "arr = [1,5,7,9,11]\n",
    "key = int (input(\"enter key : \"))\n",
    "loc = b_rec (arr,0,len(arr)-1,key)\n",
    "print(f\"The key at {loc}\")"
   ]
  },
  {
   "cell_type": "markdown",
   "id": "classified-community",
   "metadata": {},
   "source": [
    "# Binary Search Function without recursion "
   ]
  },
  {
   "cell_type": "code",
   "execution_count": 112,
   "id": "gothic-engineer",
   "metadata": {},
   "outputs": [],
   "source": [
    "def binarySearch(arr, l, r, k):\n",
    "    while l <= r:\n",
    "        mid = l + (r - l) // 2\n",
    "        if arr[mid] == k:\n",
    "            return mid\n",
    "        elif arr[mid] < k:\n",
    "            l = mid + 1\n",
    "        else:\n",
    "            r = mid - 1\n",
    "    return -1 "
   ]
  },
  {
   "cell_type": "code",
   "execution_count": 114,
   "id": "destroyed-steam",
   "metadata": {},
   "outputs": [
    {
     "name": "stdout",
     "output_type": "stream",
     "text": [
      "enter key : 5\n",
      "The key at 1\n"
     ]
    }
   ],
   "source": [
    "arr = [1,5,7,9,11]\n",
    "k = int (input(\"enter key : \"))\n",
    "location = binarySearch(arr, 0, len(arr)-1, k)\n",
    "print(f\"The key at {location}\")"
   ]
  },
  {
   "cell_type": "markdown",
   "id": "given-thriller",
   "metadata": {},
   "source": [
    "# َQuick Sort "
   ]
  },
  {
   "cell_type": "code",
   "execution_count": 10,
   "id": "skilled-david",
   "metadata": {},
   "outputs": [],
   "source": [
    "def quick_sort (arr,left,right):\n",
    "    if left < right : #there is a list\n",
    "        pos = part(arr,left,right)\n",
    "        quick_sort (arr,left,pos-1)\n",
    "        quick_sort (arr,pos+1,right)"
   ]
  },
  {
   "cell_type": "code",
   "execution_count": null,
   "id": "funky-induction",
   "metadata": {},
   "outputs": [],
   "source": []
  },
  {
   "cell_type": "code",
   "execution_count": 11,
   "id": "informal-missile",
   "metadata": {},
   "outputs": [],
   "source": [
    "def part(arr,left, right):\n",
    "    i=left \n",
    "    j=right-1\n",
    "    p = arr[right]\n",
    "#right ==> smaller than p \n",
    "#left ==> greater than p \n",
    "    while i<j :\n",
    "        while i < right and arr[i]< p : #normal case\n",
    "            i+=1\n",
    "        while j > left and arr[j] >= p :\n",
    "            j-=1\n",
    "        if i<j : #arr[i] > arr[j] ???\n",
    "                arr[i],arr[j]=arr[j],arr[i]\n",
    "    if arr[i] > p : #pivot in the right place\n",
    "        arr[i], arr[right] = arr[right],arr[i] \n",
    "    return i "
   ]
  },
  {
   "cell_type": "code",
   "execution_count": 14,
   "id": "rocky-scenario",
   "metadata": {},
   "outputs": [
    {
     "name": "stdout",
     "output_type": "stream",
     "text": [
      "[1, 2, 5, 6, 8]\n"
     ]
    }
   ],
   "source": [
    "arr = [2,1,8,6,5]\n",
    "quick_sort(arr , 0 , len(arr)-1)\n",
    "print (arr)"
   ]
  },
  {
   "cell_type": "code",
   "execution_count": null,
   "id": "voluntary-champion",
   "metadata": {},
   "outputs": [],
   "source": []
  },
  {
   "cell_type": "code",
   "execution_count": null,
   "id": "stuck-latvia",
   "metadata": {},
   "outputs": [],
   "source": []
  }
 ],
 "metadata": {
  "kernelspec": {
   "display_name": "Python 3",
   "language": "python",
   "name": "python3"
  },
  "language_info": {
   "codemirror_mode": {
    "name": "ipython",
    "version": 3
   },
   "file_extension": ".py",
   "mimetype": "text/x-python",
   "name": "python",
   "nbconvert_exporter": "python",
   "pygments_lexer": "ipython3",
   "version": "3.8.3"
  }
 },
 "nbformat": 4,
 "nbformat_minor": 5
}
