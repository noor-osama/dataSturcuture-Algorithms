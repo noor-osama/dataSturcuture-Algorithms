{
 "cells": [
  {
   "cell_type": "markdown",
   "id": "parliamentary-casting",
   "metadata": {},
   "source": [
    "# Stack and Queue "
   ]
  },
  {
   "cell_type": "code",
   "execution_count": 31,
   "id": "biological-mentor",
   "metadata": {},
   "outputs": [],
   "source": [
    "class Stack:\n",
    "    def __init__(self):\n",
    "        self.elements = []\n",
    "\n",
    "    def push(self, data):\n",
    "        self.elements.append(data)\n",
    "\n",
    "    def pop(self):\n",
    "        return self.elements.pop()\n",
    "    def is_empty(self):\n",
    "        return len(self.elements) == 0"
   ]
  },
  {
   "cell_type": "code",
   "execution_count": 32,
   "id": "annual-grill",
   "metadata": {},
   "outputs": [
    {
     "name": "stdout",
     "output_type": "stream",
     "text": [
      "5\n",
      "3\n",
      "True\n"
     ]
    }
   ],
   "source": [
    "stack = Stack()\n",
    "stack.push(3)\n",
    "stack.push(5)\n",
    "print(stack.pop())  \n",
    "print(stack.pop())\n",
    "print(stack.is_empty())\n"
   ]
  },
  {
   "cell_type": "code",
   "execution_count": 82,
   "id": "emotional-furniture",
   "metadata": {},
   "outputs": [],
   "source": [
    "class Queue:\n",
    "    def __init__(self):\n",
    "        self.elements = []\n",
    "\n",
    "    def push(self, data):\n",
    "        self.elements.append(data)\n",
    "\n",
    "    def pop(self):\n",
    "        return self.elements.pop(0)\n",
    "    def is_empty(self):\n",
    "        return len(self.elements) == 0"
   ]
  },
  {
   "cell_type": "code",
   "execution_count": 83,
   "id": "level-constant",
   "metadata": {},
   "outputs": [
    {
     "name": "stdout",
     "output_type": "stream",
     "text": [
      "1\n",
      "2\n",
      "3\n",
      "True\n"
     ]
    }
   ],
   "source": [
    "q = Queue()\n",
    "q.push(1)\n",
    "q.push(2)\n",
    "q.push (3)\n",
    "print(q.pop())  \n",
    "print(q.pop())\n",
    "print(q.pop())\n",
    "print(q.is_empty())"
   ]
  },
  {
   "cell_type": "markdown",
   "id": "patent-precipitation",
   "metadata": {},
   "source": [
    "# Test Cases "
   ]
  },
  {
   "cell_type": "code",
   "execution_count": 70,
   "id": "conventional-dating",
   "metadata": {},
   "outputs": [],
   "source": [
    "test1 = {\n",
    "        1: [2, 3],\n",
    "        2: [4, 5],\n",
    "        3: [5],\n",
    "        4: [6],\n",
    "        5: [6],\n",
    "        6: [7],\n",
    "        7: []\n",
    "}"
   ]
  },
  {
   "cell_type": "code",
   "execution_count": 40,
   "id": "extra-norwegian",
   "metadata": {},
   "outputs": [],
   "source": [
    "test2={\"a\":[\"b\",\"c\",\"e\"],\n",
    "   \"b\":[\"a\",\"d\"],\n",
    "   \"c\":[\"a\",\"d\",\"e\",\"f\"],\n",
    "   \"d\":[\"b\",\"c\",\"e\"],\n",
    "   \"e\":[\"a\",\"d\",\"c\"],\n",
    "   \"f\":[\"c\"]}\n"
   ]
  },
  {
   "cell_type": "markdown",
   "id": "naughty-plain",
   "metadata": {},
   "source": [
    "# Depth First Algorithm without Recursion "
   ]
  },
  {
   "cell_type": "code",
   "execution_count": 72,
   "id": "capital-invite",
   "metadata": {},
   "outputs": [],
   "source": [
    "def dfs (graph , start):\n",
    "    marked = Stack ()\n",
    "    marked.push(start)\n",
    "    path =[]\n",
    "    \n",
    "    while not marked.is_empty():\n",
    "        v = marked.pop()  \n",
    "        if v in path :\n",
    "            continue\n",
    "        path.append (v)\n",
    "        for nieghbour in graph [v]:\n",
    "            marked.push(nieghbour)\n",
    "    return path\n",
    "    "
   ]
  },
  {
   "cell_type": "code",
   "execution_count": 74,
   "id": "anonymous-ballot",
   "metadata": {},
   "outputs": [
    {
     "name": "stdout",
     "output_type": "stream",
     "text": [
      "[1, 3, 5, 6, 7, 2, 4]\n"
     ]
    }
   ],
   "source": [
    "dfs_path = dfs(test1, 1)\n",
    "print(dfs_path)"
   ]
  },
  {
   "cell_type": "code",
   "execution_count": 75,
   "id": "brown-brunswick",
   "metadata": {},
   "outputs": [
    {
     "name": "stdout",
     "output_type": "stream",
     "text": [
      "['a', 'e', 'c', 'f', 'd', 'b']\n"
     ]
    }
   ],
   "source": [
    "dfs_path2 = dfs(test2, \"a\")\n",
    "print(dfs_path2)"
   ]
  },
  {
   "cell_type": "markdown",
   "id": "radical-dryer",
   "metadata": {},
   "source": [
    "# Recursive DFS"
   ]
  },
  {
   "cell_type": "code",
   "execution_count": 77,
   "id": "proprietary-ireland",
   "metadata": {},
   "outputs": [],
   "source": [
    "visited = set() # Set to keep track of visited nodes.\n",
    "\n",
    "def dfs_rec(visited, graph, node):\n",
    "    if node not in visited:\n",
    "        print (node)\n",
    "        visited.add(node)\n",
    "        for neighbour in graph[node]:\n",
    "            dfs_rec(visited, graph, neighbour)"
   ]
  },
  {
   "cell_type": "code",
   "execution_count": 79,
   "id": "prescription-retirement",
   "metadata": {},
   "outputs": [
    {
     "name": "stdout",
     "output_type": "stream",
     "text": [
      "1\n",
      "2\n",
      "4\n",
      "6\n",
      "7\n",
      "5\n",
      "3\n"
     ]
    }
   ],
   "source": [
    "dfs_rec (visited , test1,1)"
   ]
  },
  {
   "cell_type": "code",
   "execution_count": 78,
   "id": "convenient-expansion",
   "metadata": {
    "scrolled": true
   },
   "outputs": [
    {
     "name": "stdout",
     "output_type": "stream",
     "text": [
      "a\n",
      "b\n",
      "d\n",
      "c\n",
      "e\n",
      "f\n"
     ]
    }
   ],
   "source": [
    "dfs_rec (visited , test2,\"a\")"
   ]
  },
  {
   "cell_type": "markdown",
   "id": "boxed-arrow",
   "metadata": {},
   "source": [
    "# BFS"
   ]
  },
  {
   "cell_type": "code",
   "execution_count": 84,
   "id": "accepted-tunisia",
   "metadata": {},
   "outputs": [],
   "source": [
    "def bfs (graph , start):\n",
    "    marked = Queue ()\n",
    "    marked.push(start)\n",
    "    path =[]\n",
    "    \n",
    "    while not marked.is_empty():\n",
    "        v = marked.pop()  \n",
    "        if v in path :\n",
    "            continue\n",
    "        path.append (v)\n",
    "        for nieghbour in graph [v]:\n",
    "            marked.push(nieghbour)\n",
    "    return path\n",
    "    "
   ]
  },
  {
   "cell_type": "code",
   "execution_count": 85,
   "id": "undefined-accountability",
   "metadata": {},
   "outputs": [
    {
     "name": "stdout",
     "output_type": "stream",
     "text": [
      "[1, 2, 3, 4, 5, 6, 7]\n"
     ]
    }
   ],
   "source": [
    "bfs_path = bfs(test1, 1)\n",
    "print(bfs_path)"
   ]
  },
  {
   "cell_type": "code",
   "execution_count": 86,
   "id": "expressed-jewel",
   "metadata": {},
   "outputs": [
    {
     "name": "stdout",
     "output_type": "stream",
     "text": [
      "['a', 'b', 'c', 'e', 'd', 'f']\n"
     ]
    }
   ],
   "source": [
    "bfs_path2 = bfs(test2, \"a\")\n",
    "print(bfs_path2)"
   ]
  }
 ],
 "metadata": {
  "kernelspec": {
   "display_name": "Python 3",
   "language": "python",
   "name": "python3"
  },
  "language_info": {
   "codemirror_mode": {
    "name": "ipython",
    "version": 3
   },
   "file_extension": ".py",
   "mimetype": "text/x-python",
   "name": "python",
   "nbconvert_exporter": "python",
   "pygments_lexer": "ipython3",
   "version": "3.8.3"
  }
 },
 "nbformat": 4,
 "nbformat_minor": 5
}
